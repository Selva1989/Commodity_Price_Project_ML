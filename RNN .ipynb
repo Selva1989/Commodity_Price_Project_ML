{
 "cells": [
  {
   "cell_type": "code",
   "execution_count": 1,
   "id": "411a69e3",
   "metadata": {
    "scrolled": true
   },
   "outputs": [],
   "source": [
    "import pandas as pd\n",
    "import numpy as np\n",
    "import matplotlib.pyplot as plt\n"
   ]
  },
  {
   "cell_type": "code",
   "execution_count": 2,
   "id": "c089e5f4",
   "metadata": {
    "scrolled": false
   },
   "outputs": [
    {
     "name": "stdout",
     "output_type": "stream",
     "text": [
      "Requirement already satisfied: sklearn in /opt/anaconda3/envs/ML/lib/python3.10/site-packages (0.0.post4)\r\n"
     ]
    }
   ],
   "source": [
    "!pip install sklearn"
   ]
  },
  {
   "cell_type": "code",
   "execution_count": 3,
   "id": "69ac7835",
   "metadata": {},
   "outputs": [
    {
     "name": "stderr",
     "output_type": "stream",
     "text": [
      "/var/folders/ql/5c8r7ybd50sfxsy3p12bhm180000gn/T/ipykernel_1766/2555966056.py:2: UserWarning: Could not infer format, so each element will be parsed individually, falling back to `dateutil`. To ensure parsing is consistent and as-expected, please specify a format.\n",
      "  df['date'] = pd.to_datetime(df['date'])\n"
     ]
    },
    {
     "data": {
      "text/html": [
       "<div>\n",
       "<style scoped>\n",
       "    .dataframe tbody tr th:only-of-type {\n",
       "        vertical-align: middle;\n",
       "    }\n",
       "\n",
       "    .dataframe tbody tr th {\n",
       "        vertical-align: top;\n",
       "    }\n",
       "\n",
       "    .dataframe thead th {\n",
       "        text-align: right;\n",
       "    }\n",
       "</style>\n",
       "<table border=\"1\" class=\"dataframe\">\n",
       "  <thead>\n",
       "    <tr style=\"text-align: right;\">\n",
       "      <th></th>\n",
       "      <th>price_euro</th>\n",
       "    </tr>\n",
       "    <tr>\n",
       "      <th>date</th>\n",
       "      <th></th>\n",
       "    </tr>\n",
       "  </thead>\n",
       "  <tbody>\n",
       "    <tr>\n",
       "      <th>2018-09-01</th>\n",
       "      <td>33.19</td>\n",
       "    </tr>\n",
       "    <tr>\n",
       "      <th>2018-10-01</th>\n",
       "      <td>33.83</td>\n",
       "    </tr>\n",
       "    <tr>\n",
       "      <th>2018-11-01</th>\n",
       "      <td>35.43</td>\n",
       "    </tr>\n",
       "    <tr>\n",
       "      <th>2018-12-01</th>\n",
       "      <td>36.63</td>\n",
       "    </tr>\n",
       "    <tr>\n",
       "      <th>2019-01-01</th>\n",
       "      <td>37.16</td>\n",
       "    </tr>\n",
       "    <tr>\n",
       "      <th>2019-02-01</th>\n",
       "      <td>36.47</td>\n",
       "    </tr>\n",
       "    <tr>\n",
       "      <th>2019-03-01</th>\n",
       "      <td>35.47</td>\n",
       "    </tr>\n",
       "    <tr>\n",
       "      <th>2019-04-01</th>\n",
       "      <td>35.22</td>\n",
       "    </tr>\n",
       "    <tr>\n",
       "      <th>2019-05-01</th>\n",
       "      <td>34.98</td>\n",
       "    </tr>\n",
       "    <tr>\n",
       "      <th>2019-06-01</th>\n",
       "      <td>34.49</td>\n",
       "    </tr>\n",
       "    <tr>\n",
       "      <th>2019-07-01</th>\n",
       "      <td>33.97</td>\n",
       "    </tr>\n",
       "    <tr>\n",
       "      <th>2019-08-01</th>\n",
       "      <td>33.46</td>\n",
       "    </tr>\n",
       "    <tr>\n",
       "      <th>2019-09-01</th>\n",
       "      <td>32.93</td>\n",
       "    </tr>\n",
       "    <tr>\n",
       "      <th>2019-10-01</th>\n",
       "      <td>33.01</td>\n",
       "    </tr>\n",
       "    <tr>\n",
       "      <th>2019-11-01</th>\n",
       "      <td>33.88</td>\n",
       "    </tr>\n",
       "    <tr>\n",
       "      <th>2019-12-01</th>\n",
       "      <td>34.65</td>\n",
       "    </tr>\n",
       "    <tr>\n",
       "      <th>2020-01-01</th>\n",
       "      <td>35.19</td>\n",
       "    </tr>\n",
       "    <tr>\n",
       "      <th>2020-02-01</th>\n",
       "      <td>35.29</td>\n",
       "    </tr>\n",
       "    <tr>\n",
       "      <th>2020-03-01</th>\n",
       "      <td>34.94</td>\n",
       "    </tr>\n",
       "    <tr>\n",
       "      <th>2020-04-01</th>\n",
       "      <td>34.81</td>\n",
       "    </tr>\n",
       "    <tr>\n",
       "      <th>2020-05-01</th>\n",
       "      <td>34.91</td>\n",
       "    </tr>\n",
       "    <tr>\n",
       "      <th>2020-06-01</th>\n",
       "      <td>34.05</td>\n",
       "    </tr>\n",
       "    <tr>\n",
       "      <th>2020-07-01</th>\n",
       "      <td>32.52</td>\n",
       "    </tr>\n",
       "    <tr>\n",
       "      <th>2020-08-01</th>\n",
       "      <td>31.96</td>\n",
       "    </tr>\n",
       "    <tr>\n",
       "      <th>2020-09-01</th>\n",
       "      <td>31.82</td>\n",
       "    </tr>\n",
       "    <tr>\n",
       "      <th>2020-10-01</th>\n",
       "      <td>32.02</td>\n",
       "    </tr>\n",
       "    <tr>\n",
       "      <th>2020-11-01</th>\n",
       "      <td>33.24</td>\n",
       "    </tr>\n",
       "    <tr>\n",
       "      <th>2020-12-01</th>\n",
       "      <td>34.84</td>\n",
       "    </tr>\n",
       "    <tr>\n",
       "      <th>2021-01-01</th>\n",
       "      <td>35.05</td>\n",
       "    </tr>\n",
       "    <tr>\n",
       "      <th>2021-02-01</th>\n",
       "      <td>35.13</td>\n",
       "    </tr>\n",
       "    <tr>\n",
       "      <th>2021-03-01</th>\n",
       "      <td>34.68</td>\n",
       "    </tr>\n",
       "    <tr>\n",
       "      <th>2021-04-01</th>\n",
       "      <td>34.67</td>\n",
       "    </tr>\n",
       "    <tr>\n",
       "      <th>2021-05-01</th>\n",
       "      <td>34.95</td>\n",
       "    </tr>\n",
       "    <tr>\n",
       "      <th>2021-06-01</th>\n",
       "      <td>35.60</td>\n",
       "    </tr>\n",
       "    <tr>\n",
       "      <th>2021-07-01</th>\n",
       "      <td>35.95</td>\n",
       "    </tr>\n",
       "    <tr>\n",
       "      <th>2021-08-01</th>\n",
       "      <td>35.86</td>\n",
       "    </tr>\n",
       "    <tr>\n",
       "      <th>2021-09-01</th>\n",
       "      <td>35.99</td>\n",
       "    </tr>\n",
       "    <tr>\n",
       "      <th>2021-10-01</th>\n",
       "      <td>36.53</td>\n",
       "    </tr>\n",
       "    <tr>\n",
       "      <th>2021-11-01</th>\n",
       "      <td>37.96</td>\n",
       "    </tr>\n",
       "    <tr>\n",
       "      <th>2021-12-01</th>\n",
       "      <td>39.24</td>\n",
       "    </tr>\n",
       "    <tr>\n",
       "      <th>2022-01-01</th>\n",
       "      <td>40.46</td>\n",
       "    </tr>\n",
       "    <tr>\n",
       "      <th>2022-02-01</th>\n",
       "      <td>42.31</td>\n",
       "    </tr>\n",
       "    <tr>\n",
       "      <th>2022-03-01</th>\n",
       "      <td>43.02</td>\n",
       "    </tr>\n",
       "    <tr>\n",
       "      <th>2022-04-01</th>\n",
       "      <td>44.25</td>\n",
       "    </tr>\n",
       "    <tr>\n",
       "      <th>2022-05-01</th>\n",
       "      <td>46.01</td>\n",
       "    </tr>\n",
       "    <tr>\n",
       "      <th>2022-06-01</th>\n",
       "      <td>48.48</td>\n",
       "    </tr>\n",
       "    <tr>\n",
       "      <th>2022-07-01</th>\n",
       "      <td>50.10</td>\n",
       "    </tr>\n",
       "    <tr>\n",
       "      <th>2022-08-01</th>\n",
       "      <td>51.73</td>\n",
       "    </tr>\n",
       "    <tr>\n",
       "      <th>2022-09-01</th>\n",
       "      <td>54.40</td>\n",
       "    </tr>\n",
       "    <tr>\n",
       "      <th>2022-10-01</th>\n",
       "      <td>56.19</td>\n",
       "    </tr>\n",
       "    <tr>\n",
       "      <th>2022-11-01</th>\n",
       "      <td>58.56</td>\n",
       "    </tr>\n",
       "    <tr>\n",
       "      <th>2022-12-01</th>\n",
       "      <td>60.53</td>\n",
       "    </tr>\n",
       "    <tr>\n",
       "      <th>2023-01-01</th>\n",
       "      <td>61.58</td>\n",
       "    </tr>\n",
       "    <tr>\n",
       "      <th>2023-02-01</th>\n",
       "      <td>57.88</td>\n",
       "    </tr>\n",
       "  </tbody>\n",
       "</table>\n",
       "</div>"
      ],
      "text/plain": [
       "            price_euro\n",
       "date                  \n",
       "2018-09-01       33.19\n",
       "2018-10-01       33.83\n",
       "2018-11-01       35.43\n",
       "2018-12-01       36.63\n",
       "2019-01-01       37.16\n",
       "2019-02-01       36.47\n",
       "2019-03-01       35.47\n",
       "2019-04-01       35.22\n",
       "2019-05-01       34.98\n",
       "2019-06-01       34.49\n",
       "2019-07-01       33.97\n",
       "2019-08-01       33.46\n",
       "2019-09-01       32.93\n",
       "2019-10-01       33.01\n",
       "2019-11-01       33.88\n",
       "2019-12-01       34.65\n",
       "2020-01-01       35.19\n",
       "2020-02-01       35.29\n",
       "2020-03-01       34.94\n",
       "2020-04-01       34.81\n",
       "2020-05-01       34.91\n",
       "2020-06-01       34.05\n",
       "2020-07-01       32.52\n",
       "2020-08-01       31.96\n",
       "2020-09-01       31.82\n",
       "2020-10-01       32.02\n",
       "2020-11-01       33.24\n",
       "2020-12-01       34.84\n",
       "2021-01-01       35.05\n",
       "2021-02-01       35.13\n",
       "2021-03-01       34.68\n",
       "2021-04-01       34.67\n",
       "2021-05-01       34.95\n",
       "2021-06-01       35.60\n",
       "2021-07-01       35.95\n",
       "2021-08-01       35.86\n",
       "2021-09-01       35.99\n",
       "2021-10-01       36.53\n",
       "2021-11-01       37.96\n",
       "2021-12-01       39.24\n",
       "2022-01-01       40.46\n",
       "2022-02-01       42.31\n",
       "2022-03-01       43.02\n",
       "2022-04-01       44.25\n",
       "2022-05-01       46.01\n",
       "2022-06-01       48.48\n",
       "2022-07-01       50.10\n",
       "2022-08-01       51.73\n",
       "2022-09-01       54.40\n",
       "2022-10-01       56.19\n",
       "2022-11-01       58.56\n",
       "2022-12-01       60.53\n",
       "2023-01-01       61.58\n",
       "2023-02-01       57.88"
      ]
     },
     "execution_count": 3,
     "metadata": {},
     "output_type": "execute_result"
    }
   ],
   "source": [
    "df=pd.read_csv('/Users/selva/Documents/ML Project/input_price_data_5.csv',sep=';',names=['date','price_euro'],skiprows=[0])\n",
    "df['date'] = pd.to_datetime(df['date'])\n",
    "df['price_euro'] = df['price_euro'].str.replace(',', '.')\n",
    "df['price_euro'] = df['price_euro'].astype(float)\n",
    "df.set_index('date', inplace=True)\n",
    "df.index.freq='MS'\n",
    "df\n"
   ]
  },
  {
   "cell_type": "code",
   "execution_count": 4,
   "id": "57a48d0c",
   "metadata": {},
   "outputs": [
    {
     "name": "stdout",
     "output_type": "stream",
     "text": [
      "Requirement already satisfied: statsmodels in /opt/anaconda3/envs/ML/lib/python3.10/site-packages (0.13.5)\n",
      "Requirement already satisfied: scipy>=1.3 in /opt/anaconda3/envs/ML/lib/python3.10/site-packages (from statsmodels) (1.10.1)\n",
      "Requirement already satisfied: pandas>=0.25 in /opt/anaconda3/envs/ML/lib/python3.10/site-packages (from statsmodels) (2.0.1)\n",
      "Requirement already satisfied: numpy>=1.17 in /opt/anaconda3/envs/ML/lib/python3.10/site-packages (from statsmodels) (1.24.3)\n",
      "Requirement already satisfied: patsy>=0.5.2 in /opt/anaconda3/envs/ML/lib/python3.10/site-packages (from statsmodels) (0.5.3)\n",
      "Requirement already satisfied: packaging>=21.3 in /opt/anaconda3/envs/ML/lib/python3.10/site-packages (from statsmodels) (23.0)\n",
      "Requirement already satisfied: tzdata>=2022.1 in /opt/anaconda3/envs/ML/lib/python3.10/site-packages (from pandas>=0.25->statsmodels) (2023.3)\n",
      "Requirement already satisfied: python-dateutil>=2.8.2 in /opt/anaconda3/envs/ML/lib/python3.10/site-packages (from pandas>=0.25->statsmodels) (2.8.2)\n",
      "Requirement already satisfied: pytz>=2020.1 in /opt/anaconda3/envs/ML/lib/python3.10/site-packages (from pandas>=0.25->statsmodels) (2023.3)\n",
      "Requirement already satisfied: six in /opt/anaconda3/envs/ML/lib/python3.10/site-packages (from patsy>=0.5.2->statsmodels) (1.16.0)\n"
     ]
    }
   ],
   "source": [
    "!pip install statsmodels"
   ]
  },
  {
   "cell_type": "markdown",
   "id": "320b757a",
   "metadata": {},
   "source": [
    "### To view the seasonality in data import seasonal_decompose"
   ]
  },
  {
   "cell_type": "code",
   "execution_count": 5,
   "id": "674b709c",
   "metadata": {
    "scrolled": false
   },
   "outputs": [],
   "source": [
    "from statsmodels.tsa.seasonal import seasonal_decompose"
   ]
  },
  {
   "cell_type": "code",
   "execution_count": 16,
   "id": "6a074785",
   "metadata": {
    "scrolled": true
   },
   "outputs": [
    {
     "data": {
      "image/png": "[encoded data removed]",
      "text/plain": [
       "<Figure size 640x480 with 4 Axes>"
      ]
     },
     "metadata": {},
     "output_type": "display_data"
    }
   ],
   "source": [
    "results=seasonal_decompose(df['price_euro'])\n",
    "results.plot();"
   ]
  },
  {
   "cell_type": "code",
   "execution_count": 17,
   "id": "fb3c003c",
   "metadata": {
    "scrolled": true
   },
   "outputs": [
    {
     "data": {
      "text/plain": [
       "54"
      ]
     },
     "execution_count": 17,
     "metadata": {},
     "output_type": "execute_result"
    }
   ],
   "source": [
    "len(df)"
   ]
  },
  {
   "cell_type": "code",
   "execution_count": 30,
   "id": "1e158691",
   "metadata": {},
   "outputs": [
    {
     "name": "stdout",
     "output_type": "stream",
     "text": [
      "(35, 1) (19, 1)\n"
     ]
    }
   ],
   "source": [
    "train=df.iloc[:35]\n",
    "test=df.iloc[35:]\n",
    "print(train.shape,test.shape)"
   ]
  },
  {
   "cell_type": "markdown",
   "id": "7b97a4c4",
   "metadata": {},
   "source": [
    "### To convert the data into scale of o to 1. "
   ]
  },
  {
   "cell_type": "code",
   "execution_count": 31,
   "id": "2a315e4f",
   "metadata": {},
   "outputs": [],
   "source": [
    "from sklearn.preprocessing import MinMaxScaler\n",
    "scaler=MinMaxScaler()"
   ]
  },
  {
   "cell_type": "code",
   "execution_count": 32,
   "id": "1dc251e7",
   "metadata": {},
   "outputs": [
    {
     "data": {
      "text/plain": [
       "(            price_euro\n",
       " date                  \n",
       " 2018-09-01       33.19\n",
       " 2018-10-01       33.83\n",
       " 2018-11-01       35.43\n",
       " 2018-12-01       36.63\n",
       " 2019-01-01       37.16,\n",
       "             price_euro\n",
       " date                  \n",
       " 2022-10-01       56.19\n",
       " 2022-11-01       58.56\n",
       " 2022-12-01       60.53\n",
       " 2023-01-01       61.58\n",
       " 2023-02-01       57.88)"
      ]
     },
     "execution_count": 32,
     "metadata": {},
     "output_type": "execute_result"
    }
   ],
   "source": [
    "df.head(),df.tail()"
   ]
  },
  {
   "cell_type": "code",
   "execution_count": 33,
   "id": "16df431b",
   "metadata": {},
   "outputs": [],
   "source": [
    "scaler.fit(train)\n",
    "scaled_train=scaler.transform(train)\n",
    "scaled_test=scaler.transform(test)\n"
   ]
  },
  {
   "cell_type": "code",
   "execution_count": 34,
   "id": "17f3bab5",
   "metadata": {},
   "outputs": [
    {
     "data": {
      "text/plain": [
       "array([[0.25655431],\n",
       "       [0.37640449],\n",
       "       [0.67602996],\n",
       "       [0.90074906],\n",
       "       [1.        ],\n",
       "       [0.87078652],\n",
       "       [0.6835206 ],\n",
       "       [0.63670412],\n",
       "       [0.5917603 ],\n",
       "       [0.5       ],\n",
       "       [0.40262172],\n",
       "       [0.3071161 ],\n",
       "       [0.20786517],\n",
       "       [0.22284644],\n",
       "       [0.38576779],\n",
       "       [0.52996255],\n",
       "       [0.63108614],\n",
       "       [0.64981273],\n",
       "       [0.58426966],\n",
       "       [0.55992509],\n",
       "       [0.57865169],\n",
       "       [0.417603  ],\n",
       "       [0.13108614],\n",
       "       [0.02621723],\n",
       "       [0.        ],\n",
       "       [0.03745318],\n",
       "       [0.2659176 ],\n",
       "       [0.56554307],\n",
       "       [0.60486891],\n",
       "       [0.61985019],\n",
       "       [0.53558052],\n",
       "       [0.53370787],\n",
       "       [0.58614232],\n",
       "       [0.70786517],\n",
       "       [0.77340824]])"
      ]
     },
     "execution_count": 34,
     "metadata": {},
     "output_type": "execute_result"
    }
   ],
   "source": [
    "scaled_train"
   ]
  },
  {
   "cell_type": "code",
   "execution_count": 35,
   "id": "1317cb45",
   "metadata": {},
   "outputs": [
    {
     "data": {
      "text/plain": [
       "array([[0.75655431],\n",
       "       [0.78089888],\n",
       "       [0.88202247],\n",
       "       [1.14981273],\n",
       "       [1.38951311],\n",
       "       [1.61797753],\n",
       "       [1.96441948],\n",
       "       [2.09737828],\n",
       "       [2.32771536],\n",
       "       [2.65730337],\n",
       "       [3.11985019],\n",
       "       [3.42322097],\n",
       "       [3.72846442],\n",
       "       [4.22846442],\n",
       "       [4.56367041],\n",
       "       [5.00749064],\n",
       "       [5.37640449],\n",
       "       [5.57303371],\n",
       "       [4.88014981]])"
      ]
     },
     "execution_count": 35,
     "metadata": {},
     "output_type": "execute_result"
    }
   ],
   "source": [
    "scaled_test"
   ]
  },
  {
   "cell_type": "code",
   "execution_count": 38,
   "id": "d14ab862",
   "metadata": {},
   "outputs": [],
   "source": [
    "from keras.preprocessing.sequence import TimeseriesGenerator"
   ]
  },
  {
   "cell_type": "code",
   "execution_count": 39,
   "id": "c5234571",
   "metadata": {},
   "outputs": [],
   "source": [
    "n_input=5\n",
    "n_features=1\n",
    "generator=TimeseriesGenerator(scaled_train, scaled_train, length=n_input,batch_size=1)"
   ]
  },
  {
   "cell_type": "code",
   "execution_count": 40,
   "id": "fe3fd25f",
   "metadata": {},
   "outputs": [
    {
     "name": "stdout",
     "output_type": "stream",
     "text": [
      "35 30\n"
     ]
    }
   ],
   "source": [
    "print(len(train),len(generator))"
   ]
  },
  {
   "cell_type": "code",
   "execution_count": 42,
   "id": "20641e63",
   "metadata": {},
   "outputs": [
    {
     "name": "stdout",
     "output_type": "stream",
     "text": [
      "Given the array: \n",
      "[0.37640449 0.67602996 0.90074906 1.         0.87078652]\n",
      "Predict this y: \n",
      "[[0.6835206]]\n"
     ]
    }
   ],
   "source": [
    "X,y=generator[1]\n",
    "\n",
    "print(f'Given the array: \\n{X.flatten()}')\n",
    "print(f'Predict this y: \\n{y}')"
   ]
  },
  {
   "cell_type": "code",
   "execution_count": 43,
   "id": "0d6f9644",
   "metadata": {},
   "outputs": [
    {
     "data": {
      "text/plain": [
       "(1, 5, 1)"
      ]
     },
     "execution_count": 43,
     "metadata": {},
     "output_type": "execute_result"
    }
   ],
   "source": [
    "X.shape"
   ]
  },
  {
   "cell_type": "code",
   "execution_count": 250,
   "id": "578572cc",
   "metadata": {},
   "outputs": [],
   "source": [
    "#n_input=12\n",
    "#n_features=1\n",
    "#generator=TimeseriesGenerator(scaled_train,scaled_train,length=n_input,batch_size=1)"
   ]
  },
  {
   "cell_type": "code",
   "execution_count": 44,
   "id": "9bbcb44e",
   "metadata": {},
   "outputs": [],
   "source": [
    "from keras.models import Sequential\n",
    "from keras.layers import Dense\n",
    "from keras.layers import LSTM"
   ]
  },
  {
   "cell_type": "code",
   "execution_count": 45,
   "id": "00de115e",
   "metadata": {},
   "outputs": [
    {
     "name": "stderr",
     "output_type": "stream",
     "text": [
      "2023-04-27 15:20:33.342155: I tensorflow/core/platform/cpu_feature_guard.cc:193] This TensorFlow binary is optimized with oneAPI Deep Neural Network Library (oneDNN) to use the following CPU instructions in performance-critical operations:  SSE4.1 SSE4.2\n",
      "To enable them in other operations, rebuild TensorFlow with the appropriate compiler flags.\n"
     ]
    }
   ],
   "source": [
    "model=Sequential()\n",
    "model.add(LSTM(100,activation='relu', input_shape=(n_input,n_features)))\n",
    "model.add(Dense(1))\n",
    "model.compile(optimizer='adam',loss='mse')"
   ]
  },
  {
   "cell_type": "code",
   "execution_count": 253,
   "id": "32818a13",
   "metadata": {},
   "outputs": [
    {
     "name": "stdout",
     "output_type": "stream",
     "text": [
      "Model: \"sequential_9\"\n",
      "_________________________________________________________________\n",
      " Layer (type)                Output Shape              Param #   \n",
      "=================================================================\n",
      " lstm_9 (LSTM)               (None, 100)               40800     \n",
      "                                                                 \n",
      " dense_9 (Dense)             (None, 1)                 101       \n",
      "                                                                 \n",
      "=================================================================\n",
      "Total params: 40,901\n",
      "Trainable params: 40,901\n",
      "Non-trainable params: 0\n",
      "_________________________________________________________________\n"
     ]
    }
   ],
   "source": [
    "model.summary()"
   ]
  },
  {
   "cell_type": "code",
   "execution_count": 46,
   "id": "1ef7dfca",
   "metadata": {},
   "outputs": [
    {
     "name": "stdout",
     "output_type": "stream",
     "text": [
      "Epoch 1/50\n",
      "30/30 [==============================] - 1s 2ms/step - loss: 0.1742\n",
      "Epoch 2/50\n",
      "30/30 [==============================] - 0s 1ms/step - loss: 0.0551\n",
      "Epoch 3/50\n",
      "30/30 [==============================] - 0s 1ms/step - loss: 0.0480\n",
      "Epoch 4/50\n",
      "30/30 [==============================] - 0s 1ms/step - loss: 0.0451\n",
      "Epoch 5/50\n",
      "30/30 [==============================] - 0s 1ms/step - loss: 0.0405\n",
      "Epoch 6/50\n",
      "30/30 [==============================] - 0s 2ms/step - loss: 0.0353\n",
      "Epoch 7/50\n",
      "30/30 [==============================] - 0s 1ms/step - loss: 0.0317\n",
      "Epoch 8/50\n",
      "30/30 [==============================] - 0s 2ms/step - loss: 0.0290\n",
      "Epoch 9/50\n",
      "30/30 [==============================] - 0s 2ms/step - loss: 0.0270\n",
      "Epoch 10/50\n",
      "30/30 [==============================] - 0s 1ms/step - loss: 0.0250\n",
      "Epoch 11/50\n",
      "30/30 [==============================] - 0s 2ms/step - loss: 0.0253\n",
      "Epoch 12/50\n",
      "30/30 [==============================] - 0s 1ms/step - loss: 0.0248\n",
      "Epoch 13/50\n",
      "30/30 [==============================] - 0s 1ms/step - loss: 0.0230\n",
      "Epoch 14/50\n",
      "30/30 [==============================] - 0s 1ms/step - loss: 0.0216\n",
      "Epoch 15/50\n",
      "30/30 [==============================] - 0s 1ms/step - loss: 0.0208\n",
      "Epoch 16/50\n",
      "30/30 [==============================] - 0s 1ms/step - loss: 0.0189\n",
      "Epoch 17/50\n",
      "30/30 [==============================] - 0s 1ms/step - loss: 0.0183\n",
      "Epoch 18/50\n",
      "30/30 [==============================] - 0s 1ms/step - loss: 0.0222\n",
      "Epoch 19/50\n",
      "30/30 [==============================] - 0s 2ms/step - loss: 0.0181\n",
      "Epoch 20/50\n",
      "30/30 [==============================] - 0s 2ms/step - loss: 0.0169\n",
      "Epoch 21/50\n",
      "30/30 [==============================] - 0s 1ms/step - loss: 0.0201\n",
      "Epoch 22/50\n",
      "30/30 [==============================] - 0s 2ms/step - loss: 0.0180\n",
      "Epoch 23/50\n",
      "30/30 [==============================] - 0s 1ms/step - loss: 0.0179\n",
      "Epoch 24/50\n",
      "30/30 [==============================] - 0s 1ms/step - loss: 0.0164\n",
      "Epoch 25/50\n",
      "30/30 [==============================] - 0s 1ms/step - loss: 0.0154\n",
      "Epoch 26/50\n",
      "30/30 [==============================] - 0s 1ms/step - loss: 0.0164\n",
      "Epoch 27/50\n",
      "30/30 [==============================] - 0s 2ms/step - loss: 0.0156\n",
      "Epoch 28/50\n",
      "30/30 [==============================] - 0s 1ms/step - loss: 0.0186\n",
      "Epoch 29/50\n",
      "30/30 [==============================] - 0s 2ms/step - loss: 0.0160\n",
      "Epoch 30/50\n",
      "30/30 [==============================] - 0s 2ms/step - loss: 0.0145\n",
      "Epoch 31/50\n",
      "30/30 [==============================] - 0s 1ms/step - loss: 0.0149\n",
      "Epoch 32/50\n",
      "30/30 [==============================] - 0s 1ms/step - loss: 0.0143\n",
      "Epoch 33/50\n",
      "30/30 [==============================] - 0s 1ms/step - loss: 0.0146\n",
      "Epoch 34/50\n",
      "30/30 [==============================] - 0s 1ms/step - loss: 0.0137\n",
      "Epoch 35/50\n",
      "30/30 [==============================] - 0s 1ms/step - loss: 0.0133\n",
      "Epoch 36/50\n",
      "30/30 [==============================] - 0s 1ms/step - loss: 0.0124\n",
      "Epoch 37/50\n",
      "30/30 [==============================] - 0s 1ms/step - loss: 0.0126\n",
      "Epoch 38/50\n",
      "30/30 [==============================] - 0s 1ms/step - loss: 0.0121\n",
      "Epoch 39/50\n",
      "30/30 [==============================] - 0s 1ms/step - loss: 0.0127\n",
      "Epoch 40/50\n",
      "30/30 [==============================] - 0s 1ms/step - loss: 0.0126\n",
      "Epoch 41/50\n",
      "30/30 [==============================] - 0s 1ms/step - loss: 0.0126\n",
      "Epoch 42/50\n",
      "30/30 [==============================] - 0s 1ms/step - loss: 0.0127\n",
      "Epoch 43/50\n",
      "30/30 [==============================] - 0s 1ms/step - loss: 0.0116\n",
      "Epoch 44/50\n",
      "30/30 [==============================] - 0s 1ms/step - loss: 0.0112\n",
      "Epoch 45/50\n",
      "30/30 [==============================] - 0s 1ms/step - loss: 0.0116\n",
      "Epoch 46/50\n",
      "30/30 [==============================] - 0s 1ms/step - loss: 0.0120\n",
      "Epoch 47/50\n",
      "30/30 [==============================] - 0s 1ms/step - loss: 0.0129\n",
      "Epoch 48/50\n",
      "30/30 [==============================] - 0s 1ms/step - loss: 0.0113\n",
      "Epoch 49/50\n",
      "30/30 [==============================] - 0s 1ms/step - loss: 0.0105\n",
      "Epoch 50/50\n",
      "30/30 [==============================] - 0s 1ms/step - loss: 0.0111\n"
     ]
    },
    {
     "data": {
      "text/plain": [
       "<keras.callbacks.History at 0x7fa0355b0730>"
      ]
     },
     "execution_count": 46,
     "metadata": {},
     "output_type": "execute_result"
    }
   ],
   "source": [
    "model.fit(generator, epochs=50)"
   ]
  },
  {
   "cell_type": "code",
   "execution_count": 47,
   "id": "6ddb6d63",
   "metadata": {},
   "outputs": [
    {
     "data": {
      "text/plain": [
       "[<matplotlib.lines.Line2D at 0x7fa0434e4280>]"
      ]
     },
     "execution_count": 47,
     "metadata": {},
     "output_type": "execute_result"
    },
    {
     "data": {
      "image/png": "[encoded data removed]",
      "text/plain": [
       "<Figure size 640x480 with 1 Axes>"
      ]
     },
     "metadata": {},
     "output_type": "display_data"
    }
   ],
   "source": [
    "loss_per_epoch=model.history.history['loss']\n",
    "plt.plot(range(len(loss_per_epoch)),loss_per_epoch)"
   ]
  },
  {
   "cell_type": "code",
   "execution_count": 48,
   "id": "0cff4d86",
   "metadata": {},
   "outputs": [
    {
     "data": {
      "text/plain": [
       "array([[0.53558052],\n",
       "       [0.53370787],\n",
       "       [0.58614232],\n",
       "       [0.70786517],\n",
       "       [0.77340824]])"
      ]
     },
     "execution_count": 48,
     "metadata": {},
     "output_type": "execute_result"
    }
   ],
   "source": [
    "last_train_batch=scaled_train[-5:]\n",
    "last_train_batch"
   ]
  },
  {
   "cell_type": "code",
   "execution_count": 49,
   "id": "7f74ed4e",
   "metadata": {
    "scrolled": true
   },
   "outputs": [
    {
     "data": {
      "text/plain": [
       "array([[[0.53558052],\n",
       "        [0.53370787],\n",
       "        [0.58614232],\n",
       "        [0.70786517],\n",
       "        [0.77340824]]])"
      ]
     },
     "execution_count": 49,
     "metadata": {},
     "output_type": "execute_result"
    }
   ],
   "source": [
    "last_train_batch=last_train_batch.reshape((1, n_input,n_features))\n",
    "last_train_batch"
   ]
  },
  {
   "cell_type": "code",
   "execution_count": 50,
   "id": "3cc8c8b1",
   "metadata": {},
   "outputs": [
    {
     "name": "stdout",
     "output_type": "stream",
     "text": [
      "1/1 [==============================] - 0s 113ms/step\n"
     ]
    },
    {
     "data": {
      "text/plain": [
       "array([[0.6819878]], dtype=float32)"
      ]
     },
     "execution_count": 50,
     "metadata": {},
     "output_type": "execute_result"
    }
   ],
   "source": [
    "model.predict(last_train_batch)"
   ]
  },
  {
   "cell_type": "code",
   "execution_count": 51,
   "id": "0ae0c723",
   "metadata": {},
   "outputs": [
    {
     "data": {
      "text/plain": [
       "array([0.75655431])"
      ]
     },
     "execution_count": 51,
     "metadata": {},
     "output_type": "execute_result"
    }
   ],
   "source": [
    "scaled_test[0]"
   ]
  },
  {
   "cell_type": "code",
   "execution_count": 52,
   "id": "b87745cd",
   "metadata": {},
   "outputs": [
    {
     "name": "stdout",
     "output_type": "stream",
     "text": [
      "1/1 [==============================] - 0s 23ms/step\n",
      "1/1 [==============================] - 0s 15ms/step\n",
      "1/1 [==============================] - 0s 13ms/step\n",
      "1/1 [==============================] - 0s 13ms/step\n",
      "1/1 [==============================] - 0s 13ms/step\n",
      "1/1 [==============================] - 0s 13ms/step\n",
      "1/1 [==============================] - 0s 13ms/step\n",
      "1/1 [==============================] - 0s 13ms/step\n",
      "1/1 [==============================] - 0s 14ms/step\n",
      "1/1 [==============================] - 0s 14ms/step\n",
      "1/1 [==============================] - 0s 14ms/step\n",
      "1/1 [==============================] - 0s 13ms/step\n",
      "1/1 [==============================] - 0s 13ms/step\n",
      "1/1 [==============================] - 0s 13ms/step\n",
      "1/1 [==============================] - 0s 13ms/step\n",
      "1/1 [==============================] - 0s 13ms/step\n",
      "1/1 [==============================] - 0s 13ms/step\n",
      "1/1 [==============================] - 0s 14ms/step\n",
      "1/1 [==============================] - 0s 13ms/step\n"
     ]
    }
   ],
   "source": [
    "test_predictions=[]\n",
    "first_eval_batch=scaled_train[-n_input:]\n",
    "current_batch=first_eval_batch.reshape((1,n_input,n_features))\n",
    "for i in range(len(test)):\n",
    "    current_pred=model.predict(current_batch)[0]\n",
    "    test_predictions.append(current_pred)\n",
    "    current_batch=np.append(current_batch[:,1:,:],[[current_pred]],axis=1)\n"
   ]
  },
  {
   "cell_type": "code",
   "execution_count": 53,
   "id": "7ffef949",
   "metadata": {},
   "outputs": [
    {
     "data": {
      "text/plain": [
       "[array([0.6819878], dtype=float32),\n",
       " array([0.669409], dtype=float32),\n",
       " array([0.64281416], dtype=float32),\n",
       " array([0.60044914], dtype=float32),\n",
       " array([0.5632839], dtype=float32),\n",
       " array([0.5325464], dtype=float32),\n",
       " array([0.50231165], dtype=float32),\n",
       " array([0.47962132], dtype=float32),\n",
       " array([0.47156757], dtype=float32),\n",
       " array([0.4802317], dtype=float32),\n",
       " array([0.5042654], dtype=float32),\n",
       " array([0.538692], dtype=float32),\n",
       " array([0.56519693], dtype=float32),\n",
       " array([0.580851], dtype=float32),\n",
       " array([0.5855571], dtype=float32),\n",
       " array([0.5828464], dtype=float32),\n",
       " array([0.5718669], dtype=float32),\n",
       " array([0.5557256], dtype=float32),\n",
       " array([0.5384982], dtype=float32)]"
      ]
     },
     "execution_count": 53,
     "metadata": {},
     "output_type": "execute_result"
    }
   ],
   "source": [
    "test_predictions"
   ]
  },
  {
   "cell_type": "code",
   "execution_count": 54,
   "id": "3776c99e",
   "metadata": {},
   "outputs": [
    {
     "data": {
      "text/html": [
       "<div>\n",
       "<style scoped>\n",
       "    .dataframe tbody tr th:only-of-type {\n",
       "        vertical-align: middle;\n",
       "    }\n",
       "\n",
       "    .dataframe tbody tr th {\n",
       "        vertical-align: top;\n",
       "    }\n",
       "\n",
       "    .dataframe thead th {\n",
       "        text-align: right;\n",
       "    }\n",
       "</style>\n",
       "<table border=\"1\" class=\"dataframe\">\n",
       "  <thead>\n",
       "    <tr style=\"text-align: right;\">\n",
       "      <th></th>\n",
       "      <th>price_euro</th>\n",
       "    </tr>\n",
       "    <tr>\n",
       "      <th>date</th>\n",
       "      <th></th>\n",
       "    </tr>\n",
       "  </thead>\n",
       "  <tbody>\n",
       "    <tr>\n",
       "      <th>2021-08-01</th>\n",
       "      <td>35.86</td>\n",
       "    </tr>\n",
       "    <tr>\n",
       "      <th>2021-09-01</th>\n",
       "      <td>35.99</td>\n",
       "    </tr>\n",
       "    <tr>\n",
       "      <th>2021-10-01</th>\n",
       "      <td>36.53</td>\n",
       "    </tr>\n",
       "    <tr>\n",
       "      <th>2021-11-01</th>\n",
       "      <td>37.96</td>\n",
       "    </tr>\n",
       "    <tr>\n",
       "      <th>2021-12-01</th>\n",
       "      <td>39.24</td>\n",
       "    </tr>\n",
       "  </tbody>\n",
       "</table>\n",
       "</div>"
      ],
      "text/plain": [
       "            price_euro\n",
       "date                  \n",
       "2021-08-01       35.86\n",
       "2021-09-01       35.99\n",
       "2021-10-01       36.53\n",
       "2021-11-01       37.96\n",
       "2021-12-01       39.24"
      ]
     },
     "execution_count": 54,
     "metadata": {},
     "output_type": "execute_result"
    }
   ],
   "source": [
    "test.head()"
   ]
  },
  {
   "cell_type": "code",
   "execution_count": 55,
   "id": "db7c7c75",
   "metadata": {},
   "outputs": [],
   "source": [
    "true_predictions=scaler.inverse_transform(test_predictions)"
   ]
  },
  {
   "cell_type": "code",
   "execution_count": 59,
   "id": "56ed50b8",
   "metadata": {
    "scrolled": true
   },
   "outputs": [
    {
     "name": "stderr",
     "output_type": "stream",
     "text": [
      "/var/folders/ql/5c8r7ybd50sfxsy3p12bhm180000gn/T/ipykernel_1766/3790369941.py:1: SettingWithCopyWarning: \n",
      "A value is trying to be set on a copy of a slice from a DataFrame.\n",
      "Try using .loc[row_indexer,col_indexer] = value instead\n",
      "\n",
      "See the caveats in the documentation: https://pandas.pydata.org/pandas-docs/stable/user_guide/indexing.html#returning-a-view-versus-a-copy\n",
      "  test['Predictions']=true_predictions\n"
     ]
    },
    {
     "data": {
      "text/plain": [
       "date\n",
       "2021-08-01    35.461815\n",
       "2021-09-01    35.394644\n",
       "2021-10-01    35.252628\n",
       "2021-11-01    35.026398\n",
       "2021-12-01    34.827936\n",
       "2022-01-01    34.663798\n",
       "2022-02-01    34.502344\n",
       "2022-03-01    34.381178\n",
       "2022-04-01    34.338171\n",
       "2022-05-01    34.384437\n",
       "2022-06-01    34.512777\n",
       "2022-07-01    34.696615\n",
       "2022-08-01    34.838152\n",
       "2022-09-01    34.921744\n",
       "2022-10-01    34.946875\n",
       "2022-11-01    34.932400\n",
       "2022-12-01    34.873769\n",
       "2023-01-01    34.787575\n",
       "2023-02-01    34.695581\n",
       "Freq: MS, Name: Predictions, dtype: float64"
      ]
     },
     "execution_count": 59,
     "metadata": {},
     "output_type": "execute_result"
    }
   ],
   "source": [
    "test['Predictions']=true_predictions\n",
    "test['Predictions']"
   ]
  },
  {
   "cell_type": "code",
   "execution_count": 60,
   "id": "538c8333",
   "metadata": {
    "scrolled": false
   },
   "outputs": [
    {
     "data": {
      "text/plain": [
       "<Axes: xlabel='date'>"
      ]
     },
     "execution_count": 60,
     "metadata": {},
     "output_type": "execute_result"
    },
    {
     "data": {
      "image/png": "[encoded data removed]",
      "text/plain": [
       "<Figure size 1200x600 with 1 Axes>"
      ]
     },
     "metadata": {},
     "output_type": "display_data"
    }
   ],
   "source": [
    "test.plot(figsize=(12,6))"
   ]
  },
  {
   "cell_type": "code",
   "execution_count": 61,
   "id": "19008ca3",
   "metadata": {},
   "outputs": [
    {
     "name": "stdout",
     "output_type": "stream",
     "text": [
      "15.309116152599351\n"
     ]
    }
   ],
   "source": [
    "from sklearn.metrics import mean_squared_error\n",
    "from math import sqrt\n",
    "rmse=sqrt(mean_squared_error(test['price_euro'],test['Predictions']))\n",
    "print(rmse)"
   ]
  },
  {
   "cell_type": "code",
   "execution_count": null,
   "id": "b6d77c67",
   "metadata": {},
   "outputs": [],
   "source": []
  },
  {
   "cell_type": "code",
   "execution_count": null,
   "id": "695cc8f0",
   "metadata": {},
   "outputs": [],
   "source": []
  }
 ],
 "metadata": {
  "kernelspec": {
   "display_name": "Python 3 (ipykernel)",
   "language": "python",
   "name": "python3"
  },
  "language_info": {
   "codemirror_mode": {
    "name": "ipython",
    "version": 3
   },
   "file_extension": ".py",
   "mimetype": "text/x-python",
   "name": "python",
   "nbconvert_exporter": "python",
   "pygments_lexer": "ipython3",
   "version": "3.9.12"
  }
 },
 "nbformat": 4,
 "nbformat_minor": 5
}
