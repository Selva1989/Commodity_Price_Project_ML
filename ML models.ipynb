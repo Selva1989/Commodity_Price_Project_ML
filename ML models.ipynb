{
 "cells": [
  {
   "cell_type": "markdown",
   "id": "5a78fbb2",
   "metadata": {},
   "source": [
    "### Time Series Forecasting - ML Supervised Model"
   ]
  },
  {
   "cell_type": "markdown",
   "id": "f8a732c0",
   "metadata": {},
   "source": [
    "#### Importing necessary libraries and reading the data"
   ]
  },
  {
   "cell_type": "code",
   "execution_count": 7,
   "id": "700f8d73",
   "metadata": {},
   "outputs": [],
   "source": [
    "import pandas as pd"
   ]
  },
  {
   "cell_type": "code",
   "execution_count": 8,
   "id": "0a99962a",
   "metadata": {},
   "outputs": [
    {
     "data": {
      "text/html": [
       "<div>\n",
       "<style scoped>\n",
       "    .dataframe tbody tr th:only-of-type {\n",
       "        vertical-align: middle;\n",
       "    }\n",
       "\n",
       "    .dataframe tbody tr th {\n",
       "        vertical-align: top;\n",
       "    }\n",
       "\n",
       "    .dataframe thead th {\n",
       "        text-align: right;\n",
       "    }\n",
       "</style>\n",
       "<table border=\"1\" class=\"dataframe\">\n",
       "  <thead>\n",
       "    <tr style=\"text-align: right;\">\n",
       "      <th></th>\n",
       "      <th>price_euro</th>\n",
       "    </tr>\n",
       "    <tr>\n",
       "      <th>date</th>\n",
       "      <th></th>\n",
       "    </tr>\n",
       "  </thead>\n",
       "  <tbody>\n",
       "    <tr>\n",
       "      <th>2018-09-01</th>\n",
       "      <td>33.19</td>\n",
       "    </tr>\n",
       "    <tr>\n",
       "      <th>2018-10-01</th>\n",
       "      <td>33.83</td>\n",
       "    </tr>\n",
       "    <tr>\n",
       "      <th>2018-11-01</th>\n",
       "      <td>35.43</td>\n",
       "    </tr>\n",
       "    <tr>\n",
       "      <th>2018-12-01</th>\n",
       "      <td>36.63</td>\n",
       "    </tr>\n",
       "    <tr>\n",
       "      <th>2019-01-01</th>\n",
       "      <td>37.16</td>\n",
       "    </tr>\n",
       "    <tr>\n",
       "      <th>2019-02-01</th>\n",
       "      <td>36.47</td>\n",
       "    </tr>\n",
       "    <tr>\n",
       "      <th>2019-03-01</th>\n",
       "      <td>35.47</td>\n",
       "    </tr>\n",
       "    <tr>\n",
       "      <th>2019-04-01</th>\n",
       "      <td>35.22</td>\n",
       "    </tr>\n",
       "    <tr>\n",
       "      <th>2019-05-01</th>\n",
       "      <td>34.98</td>\n",
       "    </tr>\n",
       "    <tr>\n",
       "      <th>2019-06-01</th>\n",
       "      <td>34.49</td>\n",
       "    </tr>\n",
       "  </tbody>\n",
       "</table>\n",
       "</div>"
      ],
      "text/plain": [
       "            price_euro\n",
       "date                  \n",
       "2018-09-01       33.19\n",
       "2018-10-01       33.83\n",
       "2018-11-01       35.43\n",
       "2018-12-01       36.63\n",
       "2019-01-01       37.16\n",
       "2019-02-01       36.47\n",
       "2019-03-01       35.47\n",
       "2019-04-01       35.22\n",
       "2019-05-01       34.98\n",
       "2019-06-01       34.49"
      ]
     },
     "execution_count": 8,
     "metadata": {},
     "output_type": "execute_result"
    }
   ],
   "source": [
    "df=pd.read_csv('/Users/selva/Documents/ML Project/input_price_data_5.csv',sep=';',names=['date','price_euro'],skiprows=[0])\n",
    "df['date'] = pd.to_datetime(df['date'])\n",
    "df['price_euro'] = df['price_euro'].str.replace(',', '.')\n",
    "df['price_euro'] = df['price_euro'].astype(float)\n",
    "df.set_index('date', inplace=True)\n",
    "df.head(10)\n"
   ]
  },
  {
   "cell_type": "markdown",
   "id": "8115d17d",
   "metadata": {},
   "source": [
    "#### To use a linear regression model, the three lagged values of the dependent variable are taken into account."
   ]
  },
  {
   "cell_type": "code",
   "execution_count": 12,
   "id": "9456ccc7",
   "metadata": {
    "scrolled": true
   },
   "outputs": [
    {
     "data": {
      "text/html": [
       "<div>\n",
       "<style scoped>\n",
       "    .dataframe tbody tr th:only-of-type {\n",
       "        vertical-align: middle;\n",
       "    }\n",
       "\n",
       "    .dataframe tbody tr th {\n",
       "        vertical-align: top;\n",
       "    }\n",
       "\n",
       "    .dataframe thead th {\n",
       "        text-align: right;\n",
       "    }\n",
       "</style>\n",
       "<table border=\"1\" class=\"dataframe\">\n",
       "  <thead>\n",
       "    <tr style=\"text-align: right;\">\n",
       "      <th></th>\n",
       "      <th>price_euro</th>\n",
       "      <th>price_lastmonth</th>\n",
       "      <th>price_2monthsback</th>\n",
       "      <th>price_3monthsback</th>\n",
       "    </tr>\n",
       "    <tr>\n",
       "      <th>date</th>\n",
       "      <th></th>\n",
       "      <th></th>\n",
       "      <th></th>\n",
       "      <th></th>\n",
       "    </tr>\n",
       "  </thead>\n",
       "  <tbody>\n",
       "    <tr>\n",
       "      <th>2018-12-01</th>\n",
       "      <td>36.63</td>\n",
       "      <td>NaN</td>\n",
       "      <td>NaN</td>\n",
       "      <td>NaN</td>\n",
       "    </tr>\n",
       "    <tr>\n",
       "      <th>2019-01-01</th>\n",
       "      <td>37.16</td>\n",
       "      <td>36.63</td>\n",
       "      <td>NaN</td>\n",
       "      <td>NaN</td>\n",
       "    </tr>\n",
       "    <tr>\n",
       "      <th>2019-02-01</th>\n",
       "      <td>36.47</td>\n",
       "      <td>37.16</td>\n",
       "      <td>36.63</td>\n",
       "      <td>NaN</td>\n",
       "    </tr>\n",
       "    <tr>\n",
       "      <th>2019-03-01</th>\n",
       "      <td>35.47</td>\n",
       "      <td>36.47</td>\n",
       "      <td>37.16</td>\n",
       "      <td>36.63</td>\n",
       "    </tr>\n",
       "    <tr>\n",
       "      <th>2019-04-01</th>\n",
       "      <td>35.22</td>\n",
       "      <td>35.47</td>\n",
       "      <td>36.47</td>\n",
       "      <td>37.16</td>\n",
       "    </tr>\n",
       "  </tbody>\n",
       "</table>\n",
       "</div>"
      ],
      "text/plain": [
       "            price_euro  price_lastmonth  price_2monthsback  price_3monthsback\n",
       "date                                                                         \n",
       "2018-12-01       36.63              NaN                NaN                NaN\n",
       "2019-01-01       37.16            36.63                NaN                NaN\n",
       "2019-02-01       36.47            37.16              36.63                NaN\n",
       "2019-03-01       35.47            36.47              37.16              36.63\n",
       "2019-04-01       35.22            35.47              36.47              37.16"
      ]
     },
     "execution_count": 12,
     "metadata": {},
     "output_type": "execute_result"
    }
   ],
   "source": [
    "df['price_lastmonth']=df['price_euro'].shift(+1)\n",
    "df['price_2monthsback']=df['price_euro'].shift(+2)\n",
    "df['price_3monthsback']=df['price_euro'].shift(+3)\n",
    "df.head(5)"
   ]
  },
  {
   "cell_type": "markdown",
   "id": "016ac3ea",
   "metadata": {},
   "source": [
    "#### To proceed further, the NA values should be removed."
   ]
  },
  {
   "cell_type": "code",
   "execution_count": 13,
   "id": "7eee507b",
   "metadata": {},
   "outputs": [
    {
     "data": {
      "text/html": [
       "<div>\n",
       "<style scoped>\n",
       "    .dataframe tbody tr th:only-of-type {\n",
       "        vertical-align: middle;\n",
       "    }\n",
       "\n",
       "    .dataframe tbody tr th {\n",
       "        vertical-align: top;\n",
       "    }\n",
       "\n",
       "    .dataframe thead th {\n",
       "        text-align: right;\n",
       "    }\n",
       "</style>\n",
       "<table border=\"1\" class=\"dataframe\">\n",
       "  <thead>\n",
       "    <tr style=\"text-align: right;\">\n",
       "      <th></th>\n",
       "      <th>price_euro</th>\n",
       "      <th>price_lastmonth</th>\n",
       "      <th>price_2monthsback</th>\n",
       "      <th>price_3monthsback</th>\n",
       "    </tr>\n",
       "    <tr>\n",
       "      <th>date</th>\n",
       "      <th></th>\n",
       "      <th></th>\n",
       "      <th></th>\n",
       "      <th></th>\n",
       "    </tr>\n",
       "  </thead>\n",
       "  <tbody>\n",
       "    <tr>\n",
       "      <th>2019-03-01</th>\n",
       "      <td>35.47</td>\n",
       "      <td>36.47</td>\n",
       "      <td>37.16</td>\n",
       "      <td>36.63</td>\n",
       "    </tr>\n",
       "    <tr>\n",
       "      <th>2019-04-01</th>\n",
       "      <td>35.22</td>\n",
       "      <td>35.47</td>\n",
       "      <td>36.47</td>\n",
       "      <td>37.16</td>\n",
       "    </tr>\n",
       "    <tr>\n",
       "      <th>2019-05-01</th>\n",
       "      <td>34.98</td>\n",
       "      <td>35.22</td>\n",
       "      <td>35.47</td>\n",
       "      <td>36.47</td>\n",
       "    </tr>\n",
       "    <tr>\n",
       "      <th>2019-06-01</th>\n",
       "      <td>34.49</td>\n",
       "      <td>34.98</td>\n",
       "      <td>35.22</td>\n",
       "      <td>35.47</td>\n",
       "    </tr>\n",
       "    <tr>\n",
       "      <th>2019-07-01</th>\n",
       "      <td>33.97</td>\n",
       "      <td>34.49</td>\n",
       "      <td>34.98</td>\n",
       "      <td>35.22</td>\n",
       "    </tr>\n",
       "  </tbody>\n",
       "</table>\n",
       "</div>"
      ],
      "text/plain": [
       "            price_euro  price_lastmonth  price_2monthsback  price_3monthsback\n",
       "date                                                                         \n",
       "2019-03-01       35.47            36.47              37.16              36.63\n",
       "2019-04-01       35.22            35.47              36.47              37.16\n",
       "2019-05-01       34.98            35.22              35.47              36.47\n",
       "2019-06-01       34.49            34.98              35.22              35.47\n",
       "2019-07-01       33.97            34.49              34.98              35.22"
      ]
     },
     "execution_count": 13,
     "metadata": {},
     "output_type": "execute_result"
    }
   ],
   "source": [
    "df=df.dropna()\n",
    "df.head(5)"
   ]
  },
  {
   "cell_type": "markdown",
   "id": "fff9da59",
   "metadata": {},
   "source": [
    "### Importing Linear and RandomForest Model"
   ]
  },
  {
   "cell_type": "code",
   "execution_count": 14,
   "id": "74419f11",
   "metadata": {},
   "outputs": [],
   "source": [
    "from sklearn.linear_model import LinearRegression\n",
    "lin_model=LinearRegression()"
   ]
  },
  {
   "cell_type": "code",
   "execution_count": 44,
   "id": "54e5670d",
   "metadata": {},
   "outputs": [],
   "source": [
    "from sklearn.ensemble import RandomForestRegressor\n",
    "model=RandomForestRegressor(n_estimators=50,max_features=3, random_state=1)"
   ]
  },
  {
   "cell_type": "markdown",
   "id": "9b3f212a",
   "metadata": {},
   "source": [
    "### Changing the format of data inorder to fit the model"
   ]
  },
  {
   "cell_type": "code",
   "execution_count": 45,
   "id": "161641d7",
   "metadata": {},
   "outputs": [
    {
     "name": "stdout",
     "output_type": "stream",
     "text": [
      "[[36.47 37.16 36.63]\n",
      " [35.47 36.47 37.16]\n",
      " [35.22 35.47 36.47]\n",
      " [34.98 35.22 35.47]\n",
      " [34.49 34.98 35.22]\n",
      " [33.97 34.49 34.98]\n",
      " [33.46 33.97 34.49]\n",
      " [32.93 33.46 33.97]\n",
      " [33.01 32.93 33.46]\n",
      " [33.88 33.01 32.93]\n",
      " [34.65 33.88 33.01]\n",
      " [35.19 34.65 33.88]\n",
      " [35.29 35.19 34.65]\n",
      " [34.94 35.29 35.19]\n",
      " [34.81 34.94 35.29]\n",
      " [34.91 34.81 34.94]\n",
      " [34.05 34.91 34.81]\n",
      " [32.52 34.05 34.91]\n",
      " [31.96 32.52 34.05]\n",
      " [31.82 31.96 32.52]\n",
      " [32.02 31.82 31.96]\n",
      " [33.24 32.02 31.82]\n",
      " [34.84 33.24 32.02]\n",
      " [35.05 34.84 33.24]\n",
      " [35.13 35.05 34.84]\n",
      " [34.68 35.13 35.05]\n",
      " [34.67 34.68 35.13]\n",
      " [34.95 34.67 34.68]\n",
      " [35.6  34.95 34.67]\n",
      " [35.95 35.6  34.95]\n",
      " [35.86 35.95 35.6 ]\n",
      " [35.99 35.86 35.95]\n",
      " [36.53 35.99 35.86]\n",
      " [37.96 36.53 35.99]\n",
      " [39.24 37.96 36.53]\n",
      " [40.46 39.24 37.96]\n",
      " [42.31 40.46 39.24]\n",
      " [43.02 42.31 40.46]\n",
      " [44.25 43.02 42.31]\n",
      " [46.01 44.25 43.02]\n",
      " [48.48 46.01 44.25]\n",
      " [50.1  48.48 46.01]\n",
      " [51.73 50.1  48.48]\n",
      " [54.4  51.73 50.1 ]\n",
      " [56.19 54.4  51.73]\n",
      " [58.56 56.19 54.4 ]\n",
      " [60.53 58.56 56.19]\n",
      " [61.58 60.53 58.56]]\n"
     ]
    }
   ],
   "source": [
    "import numpy as np\n",
    "x1,x2,x3,y=df['price_lastmonth'],df['price_2monthsback'],df['price_3monthsback'],df['price_euro']\n",
    "x1,x2,x3,y=np.array(x1),np.array(x2),np.array(x3),np.array(y)\n",
    "x1,x2,x3,y=x1.reshape(-1,1),x2.reshape(-1,1),x3.reshape(-1,1),y.reshape(-1,1)\n",
    "final_x=np.concatenate((x1,x2,x3),axis=1)\n",
    "print(final_x)"
   ]
  },
  {
   "cell_type": "code",
   "execution_count": 78,
   "id": "c85bdc33",
   "metadata": {},
   "outputs": [],
   "source": [
    "from sklearn.model_selection import train_test_split\n",
    "X_train,X_test,y_train,y_test=final_x[:-12],final_x[-12:],y[:-12],y[-12:]"
   ]
  },
  {
   "cell_type": "code",
   "execution_count": 79,
   "id": "a5e951d6",
   "metadata": {
    "scrolled": true
   },
   "outputs": [
    {
     "name": "stderr",
     "output_type": "stream",
     "text": [
      "/var/folders/ql/5c8r7ybd50sfxsy3p12bhm180000gn/T/ipykernel_1616/1977262272.py:1: DataConversionWarning: A column-vector y was passed when a 1d array was expected. Please change the shape of y to (n_samples,), for example using ravel().\n",
      "  model.fit(X_train,y_train)\n"
     ]
    },
    {
     "data": {
      "text/plain": [
       "LinearRegression()"
      ]
     },
     "execution_count": 79,
     "metadata": {},
     "output_type": "execute_result"
    }
   ],
   "source": [
    "model.fit(X_train,y_train)\n",
    "lin_model.fit(X_train,y_train)"
   ]
  },
  {
   "cell_type": "code",
   "execution_count": 80,
   "id": "a31f0914",
   "metadata": {},
   "outputs": [
    {
     "data": {
      "image/png": "[encoded data removed]",
      "text/plain": [
       "<Figure size 864x576 with 1 Axes>"
      ]
     },
     "metadata": {
      "needs_background": "light"
     },
     "output_type": "display_data"
    }
   ],
   "source": [
    "pred=model.predict(X_test)\n",
    "import matplotlib.pyplot as plt\n",
    "plt.rcParams['figure.figsize']=(12,8)\n",
    "plt.plot(pred,label='Random_forest_Prediciton_price')\n",
    "plt.plot(y_test,label='Actual milk_price')\n",
    "plt.legend(loc='upper left')\n",
    "plt.show()"
   ]
  },
  {
   "cell_type": "code",
   "execution_count": 81,
   "id": "cfa94df8",
   "metadata": {},
   "outputs": [
    {
     "data": {
      "image/png": "[encoded data removed]",
      "text/plain": [
       "<Figure size 864x576 with 1 Axes>"
      ]
     },
     "metadata": {
      "needs_background": "light"
     },
     "output_type": "display_data"
    }
   ],
   "source": [
    "lin_pred=lin_model.predict(X_test)\n",
    "import matplotlib.pyplot as plt\n",
    "plt.rcParams['figure.figsize']=(12,8)\n",
    "plt.plot(lin_pred,label='Linear_Reg_Pred_price')\n",
    "plt.plot(y_test,label='Actual milk_price')\n",
    "plt.legend(loc='upper left')\n",
    "plt.show()"
   ]
  },
  {
   "cell_type": "markdown",
   "id": "3bb543ad",
   "metadata": {},
   "source": [
    "### Evaluating the model by calculating RMSE "
   ]
  },
  {
   "cell_type": "code",
   "execution_count": 82,
   "id": "73c53af5",
   "metadata": {},
   "outputs": [],
   "source": [
    "from sklearn.metrics import mean_squared_error\n",
    "from math import sqrt\n",
    "rmse_rf=sqrt(mean_squared_error(pred,y_test))\n",
    "rmse_lr=sqrt(mean_squared_error(lin_pred,y_test))"
   ]
  },
  {
   "cell_type": "code",
   "execution_count": 77,
   "id": "2f12688f",
   "metadata": {},
   "outputs": [
    {
     "name": "stdout",
     "output_type": "stream",
     "text": [
      "MSE for Random:  12.99106150304892\n",
      "MSE for Linear:  2.8843981221468193\n"
     ]
    }
   ],
   "source": [
    "print('MSE for Random: ' ,rmse_rf)\n",
    "print('MSE for Linear: ' ,rmse_lr)"
   ]
  },
  {
   "cell_type": "markdown",
   "id": "4d2cd1fa",
   "metadata": {},
   "source": [
    "#### From the prediction graph and rmse value, it is clear that Linear Regression model performs well. Random Forest Model is not suited for this data."
   ]
  },
  {
   "cell_type": "code",
   "execution_count": null,
   "id": "21985a20",
   "metadata": {},
   "outputs": [],
   "source": []
  },
  {
   "cell_type": "code",
   "execution_count": null,
   "id": "5c93e333",
   "metadata": {},
   "outputs": [],
   "source": []
  },
  {
   "cell_type": "code",
   "execution_count": null,
   "id": "f64119ec",
   "metadata": {},
   "outputs": [],
   "source": []
  }
 ],
 "metadata": {
  "kernelspec": {
   "display_name": "Python 3 (ipykernel)",
   "language": "python",
   "name": "python3"
  },
  "language_info": {
   "codemirror_mode": {
    "name": "ipython",
    "version": 3
   },
   "file_extension": ".py",
   "mimetype": "text/x-python",
   "name": "python",
   "nbconvert_exporter": "python",
   "pygments_lexer": "ipython3",
   "version": "3.9.12"
  }
 },
 "nbformat": 4,
 "nbformat_minor": 5
}
