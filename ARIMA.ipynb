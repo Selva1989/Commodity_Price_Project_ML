{
 "cells": [
  {
   "cell_type": "markdown",
   "id": "0dd73d8f",
   "metadata": {},
   "source": [
    "## Time Series Forecasting - ARIMA Model"
   ]
  },
  {
   "cell_type": "code",
   "execution_count": 112,
   "id": "353b9e49",
   "metadata": {
    "scrolled": false
   },
   "outputs": [
    {
     "name": "stdout",
     "output_type": "stream",
     "text": [
      "Requirement already satisfied: pmdarima in /opt/anaconda3/lib/python3.9/site-packages (2.0.3)\n",
      "Requirement already satisfied: joblib>=0.11 in /opt/anaconda3/lib/python3.9/site-packages (from pmdarima) (1.1.0)\n",
      "Requirement already satisfied: numpy>=1.21.2 in /opt/anaconda3/lib/python3.9/site-packages (from pmdarima) (1.22.4)\n",
      "Requirement already satisfied: Cython!=0.29.18,!=0.29.31,>=0.29 in /opt/anaconda3/lib/python3.9/site-packages (from pmdarima) (0.29.28)\n",
      "Requirement already satisfied: pandas>=0.19 in /opt/anaconda3/lib/python3.9/site-packages (from pmdarima) (1.4.2)\n",
      "Requirement already satisfied: scipy>=1.3.2 in /opt/anaconda3/lib/python3.9/site-packages (from pmdarima) (1.7.3)\n",
      "Requirement already satisfied: setuptools!=50.0.0,>=38.6.0 in /opt/anaconda3/lib/python3.9/site-packages (from pmdarima) (61.2.0)\n",
      "Requirement already satisfied: statsmodels>=0.13.2 in /opt/anaconda3/lib/python3.9/site-packages (from pmdarima) (0.13.2)\n",
      "Requirement already satisfied: scikit-learn>=0.22 in /opt/anaconda3/lib/python3.9/site-packages (from pmdarima) (1.0.2)\n",
      "Requirement already satisfied: urllib3 in /opt/anaconda3/lib/python3.9/site-packages (from pmdarima) (1.26.9)\n",
      "Requirement already satisfied: python-dateutil>=2.8.1 in /opt/anaconda3/lib/python3.9/site-packages (from pandas>=0.19->pmdarima) (2.8.2)\n",
      "Requirement already satisfied: pytz>=2020.1 in /opt/anaconda3/lib/python3.9/site-packages (from pandas>=0.19->pmdarima) (2021.3)\n",
      "Requirement already satisfied: six>=1.5 in /opt/anaconda3/lib/python3.9/site-packages (from python-dateutil>=2.8.1->pandas>=0.19->pmdarima) (1.16.0)\n",
      "Requirement already satisfied: threadpoolctl>=2.0.0 in /opt/anaconda3/lib/python3.9/site-packages (from scikit-learn>=0.22->pmdarima) (2.2.0)\n",
      "Requirement already satisfied: packaging>=21.3 in /opt/anaconda3/lib/python3.9/site-packages (from statsmodels>=0.13.2->pmdarima) (21.3)\n",
      "Requirement already satisfied: patsy>=0.5.2 in /opt/anaconda3/lib/python3.9/site-packages (from statsmodels>=0.13.2->pmdarima) (0.5.2)\n",
      "Requirement already satisfied: pyparsing!=3.0.5,>=2.0.2 in /opt/anaconda3/lib/python3.9/site-packages (from packaging>=21.3->statsmodels>=0.13.2->pmdarima) (3.0.4)\n",
      "Note: you may need to restart the kernel to use updated packages.\n"
     ]
    }
   ],
   "source": [
    "pip install pmdarima"
   ]
  },
  {
   "cell_type": "markdown",
   "id": "501c2645",
   "metadata": {},
   "source": [
    "### Import necessary libraries"
   ]
  },
  {
   "cell_type": "code",
   "execution_count": 113,
   "id": "a3dac1cb",
   "metadata": {},
   "outputs": [],
   "source": [
    "import pandas as pd\n",
    "import numpy as np\n",
    "import matplotlib.pyplot as plt"
   ]
  },
  {
   "cell_type": "markdown",
   "id": "4edaedb1",
   "metadata": {},
   "source": [
    "### Read data"
   ]
  },
  {
   "cell_type": "code",
   "execution_count": 114,
   "id": "bae3c32d",
   "metadata": {},
   "outputs": [],
   "source": [
    "df=pd.read_csv('/Users/selva/Documents/ML Project/input_price_data_5.csv',sep=';',names=['year','milk_price_euro'],skiprows=[0])\n",
    "df['year'] = pd.to_datetime(df['year'])\n"
   ]
  },
  {
   "cell_type": "code",
   "execution_count": 115,
   "id": "90a44ef1",
   "metadata": {},
   "outputs": [
    {
     "data": {
      "text/html": [
       "<div>\n",
       "<style scoped>\n",
       "    .dataframe tbody tr th:only-of-type {\n",
       "        vertical-align: middle;\n",
       "    }\n",
       "\n",
       "    .dataframe tbody tr th {\n",
       "        vertical-align: top;\n",
       "    }\n",
       "\n",
       "    .dataframe thead th {\n",
       "        text-align: right;\n",
       "    }\n",
       "</style>\n",
       "<table border=\"1\" class=\"dataframe\">\n",
       "  <thead>\n",
       "    <tr style=\"text-align: right;\">\n",
       "      <th></th>\n",
       "      <th>year</th>\n",
       "      <th>milk_price_euro</th>\n",
       "    </tr>\n",
       "  </thead>\n",
       "  <tbody>\n",
       "    <tr>\n",
       "      <th>0</th>\n",
       "      <td>2018-09-01</td>\n",
       "      <td>33.19</td>\n",
       "    </tr>\n",
       "    <tr>\n",
       "      <th>1</th>\n",
       "      <td>2018-10-01</td>\n",
       "      <td>33.83</td>\n",
       "    </tr>\n",
       "    <tr>\n",
       "      <th>2</th>\n",
       "      <td>2018-11-01</td>\n",
       "      <td>35.43</td>\n",
       "    </tr>\n",
       "    <tr>\n",
       "      <th>3</th>\n",
       "      <td>2018-12-01</td>\n",
       "      <td>36.63</td>\n",
       "    </tr>\n",
       "    <tr>\n",
       "      <th>4</th>\n",
       "      <td>2019-01-01</td>\n",
       "      <td>37.16</td>\n",
       "    </tr>\n",
       "  </tbody>\n",
       "</table>\n",
       "</div>"
      ],
      "text/plain": [
       "        year  milk_price_euro\n",
       "0 2018-09-01            33.19\n",
       "1 2018-10-01            33.83\n",
       "2 2018-11-01            35.43\n",
       "3 2018-12-01            36.63\n",
       "4 2019-01-01            37.16"
      ]
     },
     "execution_count": 115,
     "metadata": {},
     "output_type": "execute_result"
    }
   ],
   "source": [
    "df['milk_price_euro'] = df['milk_price_euro'].str.replace(',', '.')\n",
    "df['milk_price_euro'] = df['milk_price_euro'].astype(float)\n",
    "df.head(5)"
   ]
  },
  {
   "cell_type": "code",
   "execution_count": 116,
   "id": "8db258ae",
   "metadata": {
    "scrolled": false
   },
   "outputs": [
    {
     "data": {
      "text/plain": [
       "<AxesSubplot:xlabel='year'>"
      ]
     },
     "execution_count": 116,
     "metadata": {},
     "output_type": "execute_result"
    },
    {
     "data": {
      "image/png": "[encoded data removed]",
      "text/plain": [
       "<Figure size 432x288 with 1 Axes>"
      ]
     },
     "metadata": {
      "needs_background": "light"
     },
     "output_type": "display_data"
    }
   ],
   "source": [
    "df.set_index('year', inplace=True)\n",
    "df.plot()"
   ]
  },
  {
   "cell_type": "markdown",
   "id": "09f5fd58",
   "metadata": {},
   "source": [
    "### Check for Stationarity by Augmented Dicky-Fuller Test"
   ]
  },
  {
   "cell_type": "code",
   "execution_count": 89,
   "id": "655cf9fe",
   "metadata": {},
   "outputs": [],
   "source": [
    "from statsmodels.tsa.stattools import adfuller\n",
    "def ad_test(dataset):\n",
    "    dftest=adfuller(dataset,autolag='AIC')\n",
    "    print('1. ADF : ',dftest[0])\n",
    "    print('2. P-Value : ',dftest[1])\n",
    "    print('3. Num of Lags : ',dftest[2])\n",
    "    print('4. Num of Observations used for ADF Regression & Critical Values Cal: ',dftest[3])\n",
    "    for key, val in dftest[4].items():\n",
    "        print('\\t',key,':',val)"
   ]
  },
  {
   "cell_type": "code",
   "execution_count": 90,
   "id": "d7fd784e",
   "metadata": {},
   "outputs": [
    {
     "name": "stdout",
     "output_type": "stream",
     "text": [
      "1. ADF :  -3.6228245444457423\n",
      "2. P-Value :  0.005339368404784736\n",
      "3. Num of Lags :  11\n",
      "4. Num of Observations used for ADF Regression & Critical Values Cal:  42\n",
      "\t 1% : -3.596635636000432\n",
      "\t 5% : -2.933297331821618\n",
      "\t 10% : -2.6049909750566895\n"
     ]
    }
   ],
   "source": [
    "ad_test(df['milk_price_euro'])"
   ]
  },
  {
   "cell_type": "markdown",
   "id": "86ef1297",
   "metadata": {},
   "source": [
    "#### The p-value is less than 0.05 so the data is stationary and the next step is to create the time series model (ARIMA)"
   ]
  },
  {
   "cell_type": "markdown",
   "id": "5244843a",
   "metadata": {},
   "source": [
    "### Figure out the order of ARIMA Model"
   ]
  },
  {
   "cell_type": "code",
   "execution_count": 117,
   "id": "8c93e28b",
   "metadata": {},
   "outputs": [],
   "source": [
    "from pmdarima import auto_arima"
   ]
  },
  {
   "cell_type": "markdown",
   "id": "19b7aa51",
   "metadata": {},
   "source": [
    "#### By importing auto_arima, it calculates the different combination of p,d,q values and returns the best value with minimum AIC value.\n",
    "Akaike Information Criterion (AIC) is a measure of the relative quality of a statistical model for a given set of data. AIC is used to compare different autoregressive models with different numbers of lags to determine which model is the best fit for the data."
   ]
  },
  {
   "cell_type": "code",
   "execution_count": 118,
   "id": "5ffaba16",
   "metadata": {
    "scrolled": true
   },
   "outputs": [
    {
     "name": "stdout",
     "output_type": "stream",
     "text": [
      "Performing stepwise search to minimize aic\n",
      " ARIMA(2,2,2)(0,0,0)[0]             : AIC=inf, Time=0.12 sec\n",
      " ARIMA(0,2,0)(0,0,0)[0]             : AIC=138.815, Time=0.01 sec\n",
      " ARIMA(1,2,0)(0,0,0)[0]             : AIC=139.620, Time=0.01 sec\n",
      " ARIMA(0,2,1)(0,0,0)[0]             : AIC=139.513, Time=0.01 sec\n",
      " ARIMA(1,2,1)(0,0,0)[0]             : AIC=141.501, Time=0.01 sec\n",
      " ARIMA(0,2,0)(0,0,0)[0] intercept   : AIC=140.368, Time=0.01 sec\n",
      "\n",
      "Best model:  ARIMA(0,2,0)(0,0,0)[0]          \n",
      "Total fit time: 0.185 seconds\n"
     ]
    },
    {
     "name": "stderr",
     "output_type": "stream",
     "text": [
      "/opt/anaconda3/lib/python3.9/site-packages/statsmodels/tsa/statespace/sarimax.py:1899: RuntimeWarning: invalid value encountered in reciprocal\n",
      "  return np.roots(self.polynomial_reduced_ar)**-1\n",
      "/opt/anaconda3/lib/python3.9/site-packages/statsmodels/tsa/statespace/sarimax.py:1906: RuntimeWarning: invalid value encountered in reciprocal\n",
      "  return np.roots(self.polynomial_reduced_ma)**-1\n",
      "/opt/anaconda3/lib/python3.9/site-packages/statsmodels/tsa/statespace/sarimax.py:1899: RuntimeWarning: invalid value encountered in reciprocal\n",
      "  return np.roots(self.polynomial_reduced_ar)**-1\n",
      "/opt/anaconda3/lib/python3.9/site-packages/statsmodels/tsa/statespace/sarimax.py:1906: RuntimeWarning: invalid value encountered in reciprocal\n",
      "  return np.roots(self.polynomial_reduced_ma)**-1\n"
     ]
    },
    {
     "data": {
      "text/html": [
       "<table class=\"simpletable\">\n",
       "<caption>SARIMAX Results</caption>\n",
       "<tr>\n",
       "  <th>Dep. Variable:</th>           <td>y</td>        <th>  No. Observations:  </th>   <td>54</td>   \n",
       "</tr>\n",
       "<tr>\n",
       "  <th>Model:</th>           <td>SARIMAX(0, 2, 0)</td> <th>  Log Likelihood     </th> <td>-68.408</td>\n",
       "</tr>\n",
       "<tr>\n",
       "  <th>Date:</th>            <td>Thu, 27 Apr 2023</td> <th>  AIC                </th> <td>138.815</td>\n",
       "</tr>\n",
       "<tr>\n",
       "  <th>Time:</th>                <td>13:32:39</td>     <th>  BIC                </th> <td>140.766</td>\n",
       "</tr>\n",
       "<tr>\n",
       "  <th>Sample:</th>             <td>09-01-2018</td>    <th>  HQIC               </th> <td>139.563</td>\n",
       "</tr>\n",
       "<tr>\n",
       "  <th></th>                   <td>- 02-01-2023</td>   <th>                     </th>    <td> </td>   \n",
       "</tr>\n",
       "<tr>\n",
       "  <th>Covariance Type:</th>        <td>opg</td>       <th>                     </th>    <td> </td>   \n",
       "</tr>\n",
       "</table>\n",
       "<table class=\"simpletable\">\n",
       "<tr>\n",
       "     <td></td>       <th>coef</th>     <th>std err</th>      <th>z</th>      <th>P>|z|</th>  <th>[0.025</th>    <th>0.975]</th>  \n",
       "</tr>\n",
       "<tr>\n",
       "  <th>sigma2</th> <td>    0.8132</td> <td>    0.060</td> <td>   13.639</td> <td> 0.000</td> <td>    0.696</td> <td>    0.930</td>\n",
       "</tr>\n",
       "</table>\n",
       "<table class=\"simpletable\">\n",
       "<tr>\n",
       "  <th>Ljung-Box (L1) (Q):</th>     <td>0.58</td> <th>  Jarque-Bera (JB):  </th> <td>349.02</td>\n",
       "</tr>\n",
       "<tr>\n",
       "  <th>Prob(Q):</th>                <td>0.45</td> <th>  Prob(JB):          </th>  <td>0.00</td> \n",
       "</tr>\n",
       "<tr>\n",
       "  <th>Heteroskedasticity (H):</th> <td>5.82</td> <th>  Skew:              </th>  <td>-2.64</td>\n",
       "</tr>\n",
       "<tr>\n",
       "  <th>Prob(H) (two-sided):</th>    <td>0.00</td> <th>  Kurtosis:          </th>  <td>14.54</td>\n",
       "</tr>\n",
       "</table><br/><br/>Warnings:<br/>[1] Covariance matrix calculated using the outer product of gradients (complex-step)."
      ],
      "text/plain": [
       "<class 'statsmodels.iolib.summary.Summary'>\n",
       "\"\"\"\n",
       "                               SARIMAX Results                                \n",
       "==============================================================================\n",
       "Dep. Variable:                      y   No. Observations:                   54\n",
       "Model:               SARIMAX(0, 2, 0)   Log Likelihood                 -68.408\n",
       "Date:                Thu, 27 Apr 2023   AIC                            138.815\n",
       "Time:                        13:32:39   BIC                            140.766\n",
       "Sample:                    09-01-2018   HQIC                           139.563\n",
       "                         - 02-01-2023                                         \n",
       "Covariance Type:                  opg                                         \n",
       "==============================================================================\n",
       "                 coef    std err          z      P>|z|      [0.025      0.975]\n",
       "------------------------------------------------------------------------------\n",
       "sigma2         0.8132      0.060     13.639      0.000       0.696       0.930\n",
       "===================================================================================\n",
       "Ljung-Box (L1) (Q):                   0.58   Jarque-Bera (JB):               349.02\n",
       "Prob(Q):                              0.45   Prob(JB):                         0.00\n",
       "Heteroskedasticity (H):               5.82   Skew:                            -2.64\n",
       "Prob(H) (two-sided):                  0.00   Kurtosis:                        14.54\n",
       "===================================================================================\n",
       "\n",
       "Warnings:\n",
       "[1] Covariance matrix calculated using the outer product of gradients (complex-step).\n",
       "\"\"\""
      ]
     },
     "execution_count": 118,
     "metadata": {},
     "output_type": "execute_result"
    }
   ],
   "source": [
    "stepwise_fit=auto_arima(df['milk_price_euro'],trace=True,suppress_warnings=True)\n",
    "stepwise_fit.summary()"
   ]
  },
  {
   "cell_type": "code",
   "execution_count": 119,
   "id": "66bb2756",
   "metadata": {},
   "outputs": [],
   "source": [
    "from statsmodels.tsa.arima.model import ARIMA"
   ]
  },
  {
   "cell_type": "markdown",
   "id": "a8822f39",
   "metadata": {},
   "source": [
    "### Spliting the data into Train and Test dataset"
   ]
  },
  {
   "cell_type": "code",
   "execution_count": 120,
   "id": "48d818cc",
   "metadata": {},
   "outputs": [
    {
     "name": "stdout",
     "output_type": "stream",
     "text": [
      "(42, 1) (12, 1)\n"
     ]
    }
   ],
   "source": [
    "train=df.iloc[:-12]\n",
    "test=df.iloc[-12:]\n",
    "print(train.shape, test.shape)"
   ]
  },
  {
   "cell_type": "markdown",
   "id": "b810196d",
   "metadata": {},
   "source": [
    "### Train the Model"
   ]
  },
  {
   "cell_type": "code",
   "execution_count": 121,
   "id": "51486a0f",
   "metadata": {},
   "outputs": [
    {
     "name": "stderr",
     "output_type": "stream",
     "text": [
      "/opt/anaconda3/lib/python3.9/site-packages/statsmodels/tsa/base/tsa_model.py:471: ValueWarning: No frequency information was provided, so inferred frequency MS will be used.\n",
      "  self._init_dates(dates, freq)\n",
      "/opt/anaconda3/lib/python3.9/site-packages/statsmodels/tsa/base/tsa_model.py:471: ValueWarning: No frequency information was provided, so inferred frequency MS will be used.\n",
      "  self._init_dates(dates, freq)\n",
      "/opt/anaconda3/lib/python3.9/site-packages/statsmodels/tsa/base/tsa_model.py:471: ValueWarning: No frequency information was provided, so inferred frequency MS will be used.\n",
      "  self._init_dates(dates, freq)\n"
     ]
    },
    {
     "data": {
      "text/html": [
       "<table class=\"simpletable\">\n",
       "<caption>SARIMAX Results</caption>\n",
       "<tr>\n",
       "  <th>Dep. Variable:</th>    <td>milk_price_euro</td> <th>  No. Observations:  </th>   <td>42</td>   \n",
       "</tr>\n",
       "<tr>\n",
       "  <th>Model:</th>            <td>ARIMA(0, 2, 0)</td>  <th>  Log Likelihood     </th> <td>-34.953</td>\n",
       "</tr>\n",
       "<tr>\n",
       "  <th>Date:</th>            <td>Thu, 27 Apr 2023</td> <th>  AIC                </th> <td>71.907</td> \n",
       "</tr>\n",
       "<tr>\n",
       "  <th>Time:</th>                <td>13:32:48</td>     <th>  BIC                </th> <td>73.596</td> \n",
       "</tr>\n",
       "<tr>\n",
       "  <th>Sample:</th>             <td>09-01-2018</td>    <th>  HQIC               </th> <td>72.518</td> \n",
       "</tr>\n",
       "<tr>\n",
       "  <th></th>                   <td>- 02-01-2022</td>   <th>                     </th>    <td> </td>   \n",
       "</tr>\n",
       "<tr>\n",
       "  <th>Covariance Type:</th>        <td>opg</td>       <th>                     </th>    <td> </td>   \n",
       "</tr>\n",
       "</table>\n",
       "<table class=\"simpletable\">\n",
       "<tr>\n",
       "     <td></td>       <th>coef</th>     <th>std err</th>      <th>z</th>      <th>P>|z|</th>  <th>[0.025</th>    <th>0.975]</th>  \n",
       "</tr>\n",
       "<tr>\n",
       "  <th>sigma2</th> <td>    0.3361</td> <td>    0.082</td> <td>    4.084</td> <td> 0.000</td> <td>    0.175</td> <td>    0.497</td>\n",
       "</tr>\n",
       "</table>\n",
       "<table class=\"simpletable\">\n",
       "<tr>\n",
       "  <th>Ljung-Box (L1) (Q):</th>     <td>1.54</td> <th>  Jarque-Bera (JB):  </th> <td>0.75</td> \n",
       "</tr>\n",
       "<tr>\n",
       "  <th>Prob(Q):</th>                <td>0.22</td> <th>  Prob(JB):          </th> <td>0.69</td> \n",
       "</tr>\n",
       "<tr>\n",
       "  <th>Heteroskedasticity (H):</th> <td>0.51</td> <th>  Skew:              </th> <td>-0.31</td>\n",
       "</tr>\n",
       "<tr>\n",
       "  <th>Prob(H) (two-sided):</th>    <td>0.24</td> <th>  Kurtosis:          </th> <td>2.73</td> \n",
       "</tr>\n",
       "</table><br/><br/>Warnings:<br/>[1] Covariance matrix calculated using the outer product of gradients (complex-step)."
      ],
      "text/plain": [
       "<class 'statsmodels.iolib.summary.Summary'>\n",
       "\"\"\"\n",
       "                               SARIMAX Results                                \n",
       "==============================================================================\n",
       "Dep. Variable:        milk_price_euro   No. Observations:                   42\n",
       "Model:                 ARIMA(0, 2, 0)   Log Likelihood                 -34.953\n",
       "Date:                Thu, 27 Apr 2023   AIC                             71.907\n",
       "Time:                        13:32:48   BIC                             73.596\n",
       "Sample:                    09-01-2018   HQIC                            72.518\n",
       "                         - 02-01-2022                                         \n",
       "Covariance Type:                  opg                                         \n",
       "==============================================================================\n",
       "                 coef    std err          z      P>|z|      [0.025      0.975]\n",
       "------------------------------------------------------------------------------\n",
       "sigma2         0.3361      0.082      4.084      0.000       0.175       0.497\n",
       "===================================================================================\n",
       "Ljung-Box (L1) (Q):                   1.54   Jarque-Bera (JB):                 0.75\n",
       "Prob(Q):                              0.22   Prob(JB):                         0.69\n",
       "Heteroskedasticity (H):               0.51   Skew:                            -0.31\n",
       "Prob(H) (two-sided):                  0.24   Kurtosis:                         2.73\n",
       "===================================================================================\n",
       "\n",
       "Warnings:\n",
       "[1] Covariance matrix calculated using the outer product of gradients (complex-step).\n",
       "\"\"\""
      ]
     },
     "execution_count": 121,
     "metadata": {},
     "output_type": "execute_result"
    }
   ],
   "source": [
    "model=ARIMA(train['milk_price_euro'],order=(0,2,0))\n",
    "model=model.fit()\n",
    "model.summary()"
   ]
  },
  {
   "cell_type": "markdown",
   "id": "7842a632",
   "metadata": {},
   "source": [
    "### Making predictions on Test dataset"
   ]
  },
  {
   "cell_type": "code",
   "execution_count": 122,
   "id": "11e8d8a3",
   "metadata": {},
   "outputs": [
    {
     "name": "stdout",
     "output_type": "stream",
     "text": [
      "2022-03-01    44.16\n",
      "2022-04-01    46.01\n",
      "2022-05-01    47.86\n",
      "2022-06-01    49.71\n",
      "2022-07-01    51.56\n",
      "2022-08-01    53.41\n",
      "2022-09-01    55.26\n",
      "2022-10-01    57.11\n",
      "2022-11-01    58.96\n",
      "2022-12-01    60.81\n",
      "2023-01-01    62.66\n",
      "2023-02-01    64.51\n",
      "Freq: MS, Name: predicted_mean, dtype: float64\n"
     ]
    }
   ],
   "source": [
    "start=len(train)\n",
    "end=len(train)+len(test)-1\n",
    "pred=model.predict(start=start, end=end,typ='levels')\n",
    "print(pred)"
   ]
  },
  {
   "cell_type": "code",
   "execution_count": 123,
   "id": "2d767529",
   "metadata": {
    "scrolled": true
   },
   "outputs": [
    {
     "data": {
      "text/plain": [
       "<AxesSubplot:xlabel='year'>"
      ]
     },
     "execution_count": 123,
     "metadata": {},
     "output_type": "execute_result"
    },
    {
     "data": {
      "image/png": "[encoded data removed]",
      "text/plain": [
       "<Figure size 432x288 with 1 Axes>"
      ]
     },
     "metadata": {
      "needs_background": "light"
     },
     "output_type": "display_data"
    }
   ],
   "source": [
    "pred.plot(legend=True)\n",
    "test['milk_price_euro'].plot(legend=True)"
   ]
  },
  {
   "cell_type": "markdown",
   "id": "9adc44b4",
   "metadata": {},
   "source": [
    "#### calculating the mean of test data inorder to compare it with the rmse value between predicted and test data."
   ]
  },
  {
   "cell_type": "code",
   "execution_count": 124,
   "id": "c9044413",
   "metadata": {},
   "outputs": [
    {
     "data": {
      "text/plain": [
       "52.7275"
      ]
     },
     "execution_count": 124,
     "metadata": {},
     "output_type": "execute_result"
    }
   ],
   "source": [
    "test['milk_price_euro'].mean()"
   ]
  },
  {
   "cell_type": "code",
   "execution_count": 125,
   "id": "bf88fac4",
   "metadata": {},
   "outputs": [
    {
     "name": "stdout",
     "output_type": "stream",
     "text": [
      "2.258950714232432\n"
     ]
    }
   ],
   "source": [
    "from sklearn.metrics import mean_squared_error\n",
    "from math import sqrt\n",
    "rmse=sqrt(mean_squared_error(pred,test['milk_price_euro']))\n",
    "print(rmse)"
   ]
  },
  {
   "cell_type": "markdown",
   "id": "28f11dc4",
   "metadata": {},
   "source": [
    "#### The rmse value is 2.2589 which is approximately 5% to the mean of the test data.The model performs pretty good."
   ]
  },
  {
   "cell_type": "code",
   "execution_count": 109,
   "id": "02842caf",
   "metadata": {},
   "outputs": [
    {
     "name": "stderr",
     "output_type": "stream",
     "text": [
      "/opt/anaconda3/lib/python3.9/site-packages/statsmodels/tsa/base/tsa_model.py:471: ValueWarning: No frequency information was provided, so inferred frequency MS will be used.\n",
      "  self._init_dates(dates, freq)\n",
      "/opt/anaconda3/lib/python3.9/site-packages/statsmodels/tsa/base/tsa_model.py:471: ValueWarning: No frequency information was provided, so inferred frequency MS will be used.\n",
      "  self._init_dates(dates, freq)\n",
      "/opt/anaconda3/lib/python3.9/site-packages/statsmodels/tsa/base/tsa_model.py:471: ValueWarning: No frequency information was provided, so inferred frequency MS will be used.\n",
      "  self._init_dates(dates, freq)\n"
     ]
    },
    {
     "data": {
      "text/html": [
       "<div>\n",
       "<style scoped>\n",
       "    .dataframe tbody tr th:only-of-type {\n",
       "        vertical-align: middle;\n",
       "    }\n",
       "\n",
       "    .dataframe tbody tr th {\n",
       "        vertical-align: top;\n",
       "    }\n",
       "\n",
       "    .dataframe thead th {\n",
       "        text-align: right;\n",
       "    }\n",
       "</style>\n",
       "<table border=\"1\" class=\"dataframe\">\n",
       "  <thead>\n",
       "    <tr style=\"text-align: right;\">\n",
       "      <th></th>\n",
       "      <th>milk_price_euro</th>\n",
       "    </tr>\n",
       "    <tr>\n",
       "      <th>year</th>\n",
       "      <th></th>\n",
       "    </tr>\n",
       "  </thead>\n",
       "  <tbody>\n",
       "    <tr>\n",
       "      <th>2022-10-01</th>\n",
       "      <td>56.19</td>\n",
       "    </tr>\n",
       "    <tr>\n",
       "      <th>2022-11-01</th>\n",
       "      <td>58.56</td>\n",
       "    </tr>\n",
       "    <tr>\n",
       "      <th>2022-12-01</th>\n",
       "      <td>60.53</td>\n",
       "    </tr>\n",
       "    <tr>\n",
       "      <th>2023-01-01</th>\n",
       "      <td>61.58</td>\n",
       "    </tr>\n",
       "    <tr>\n",
       "      <th>2023-02-01</th>\n",
       "      <td>57.88</td>\n",
       "    </tr>\n",
       "  </tbody>\n",
       "</table>\n",
       "</div>"
      ],
      "text/plain": [
       "            milk_price_euro\n",
       "year                       \n",
       "2022-10-01            56.19\n",
       "2022-11-01            58.56\n",
       "2022-12-01            60.53\n",
       "2023-01-01            61.58\n",
       "2023-02-01            57.88"
      ]
     },
     "execution_count": 109,
     "metadata": {},
     "output_type": "execute_result"
    }
   ],
   "source": [
    "model2=ARIMA(df['milk_price_euro'],order=(0,2,0))\n",
    "model2=model2.fit()\n",
    "df.tail()"
   ]
  },
  {
   "cell_type": "markdown",
   "id": "198be3e5",
   "metadata": {},
   "source": [
    "### For Predicting Future Dates"
   ]
  },
  {
   "cell_type": "code",
   "execution_count": 110,
   "id": "7098ee9a",
   "metadata": {
    "scrolled": true
   },
   "outputs": [
    {
     "name": "stdout",
     "output_type": "stream",
     "text": [
      "2023-03-01    54.18\n",
      "2023-04-01    50.48\n",
      "2023-05-01    46.78\n",
      "2023-06-01    43.08\n",
      "2023-07-01    39.38\n",
      "2023-08-01    35.68\n",
      "2023-09-01    31.98\n",
      "2023-10-01    28.28\n",
      "2023-11-01    24.58\n",
      "2023-12-01    20.88\n",
      "2024-01-01    17.18\n",
      "Freq: MS, Name: ARIMA predictions, dtype: float64\n"
     ]
    }
   ],
   "source": [
    "#index_future_dates=pd.date_range(start='2023-02-01',end='2023-06-01')\n",
    "pred=model2.predict(start=len(df),end=len(df)+10,typ='levels').rename('ARIMA predictions')\n",
    "#pred.index=index_future_dates\n",
    "print(pred)"
   ]
  },
  {
   "cell_type": "code",
   "execution_count": 111,
   "id": "27ef6ac8",
   "metadata": {},
   "outputs": [
    {
     "data": {
      "text/plain": [
       "<AxesSubplot:>"
      ]
     },
     "execution_count": 111,
     "metadata": {},
     "output_type": "execute_result"
    },
    {
     "data": {
      "image/png": "[encoded data removed]",
      "text/plain": [
       "<Figure size 864x360 with 1 Axes>"
      ]
     },
     "metadata": {
      "needs_background": "light"
     },
     "output_type": "display_data"
    }
   ],
   "source": [
    "pred.plot(figsize=(12,5),legend=True)"
   ]
  },
  {
   "cell_type": "code",
   "execution_count": null,
   "id": "1b424dad",
   "metadata": {},
   "outputs": [],
   "source": []
  }
 ],
 "metadata": {
  "kernelspec": {
   "display_name": "Python 3 (ipykernel)",
   "language": "python",
   "name": "python3"
  },
  "language_info": {
   "codemirror_mode": {
    "name": "ipython",
    "version": 3
   },
   "file_extension": ".py",
   "mimetype": "text/x-python",
   "name": "python",
   "nbconvert_exporter": "python",
   "pygments_lexer": "ipython3",
   "version": "3.9.12"
  }
 },
 "nbformat": 4,
 "nbformat_minor": 5
}
